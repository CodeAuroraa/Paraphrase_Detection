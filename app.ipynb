{
 "cells": [
  {
   "cell_type": "code",
   "execution_count": null,
   "id": "03a80e10-91a9-438a-b98c-c2f8864a927e",
   "metadata": {},
   "outputs": [],
   "source": [
    "from flask import Flask, request, jsonify\n",
    "from similarity import compute_similarity\n",
    "from model import detect_paraphrase\n",
    "\n",
    "app = Flask(__name__)\n",
    "\n",
    "@app.route('/paraphrase', methods=['POST'])\n",
    "def paraphrase_api():\n",
    "    \"\"\"API endpoint to compare two texts and detect paraphrases.\"\"\"\n",
    "    data = request.json\n",
    "    text1, text2 = data.get('text1'), data.get('text2')\n",
    "\n",
    "    if not text1 or not text2:\n",
    "        return jsonify({\"error\": \"Both text1 and text2 are required\"}), 400\n",
    "\n",
    "    similarity_score = compute_similarity(text1, text2)\n",
    "    result = detect_paraphrase(text1, text2)\n",
    "\n",
    "    return jsonify({\n",
    "        \"cosine_similarity\": similarity_score,\n",
    "        \"paraphrase\": result\n",
    "    })\n",
    "\n",
    "if __name__ == '__main__':\n",
    "    app.run(debug=True)\n"
   ]
  }
 ],
 "metadata": {
  "kernelspec": {
   "display_name": "Python [conda env:base] *",
   "language": "python",
   "name": "conda-base-py"
  },
  "language_info": {
   "codemirror_mode": {
    "name": "ipython",
    "version": 3
   },
   "file_extension": ".py",
   "mimetype": "text/x-python",
   "name": "python",
   "nbconvert_exporter": "python",
   "pygments_lexer": "ipython3",
   "version": "3.12.3"
  }
 },
 "nbformat": 4,
 "nbformat_minor": 5
}
