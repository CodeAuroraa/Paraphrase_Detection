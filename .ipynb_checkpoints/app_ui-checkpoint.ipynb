{
 "cells": [
  {
   "cell_type": "code",
   "execution_count": null,
   "id": "e447b22f-01a8-41f8-a859-37c8b3a57b62",
   "metadata": {},
   "outputs": [],
   "source": [
    "import streamlit as st\n",
    "import requests\n",
    "\n",
    "st.title(\"Semantic Similarity & Paraphrase Detection\")\n",
    "\n",
    "text1 = st.text_area(\"Enter first sentence\", \"\")\n",
    "text2 = st.text_area(\"Enter second sentence\", \"\")\n",
    "\n",
    "if st.button(\"Check Similarity\"):\n",
    "    if text1 and text2:\n",
    "        url = \"https://paraphrase-api.onrender.com/paraphrase\"  # Replace with your API URL\n",
    "        response = requests.post(url, json={\"text1\": text1, \"text2\": text2})\n",
    "        result = response.json()\n",
    "\n",
    "        st.success(f\"Cosine Similarity: {result['cosine_similarity']}\")\n",
    "        st.info(f\"Paraphrase Detection: {result['paraphrase']}\")\n",
    "    else:\n",
    "        st.error(\"Please enter both sentences.\")\n"
   ]
  }
 ],
 "metadata": {
  "kernelspec": {
   "display_name": "Python [conda env:base] *",
   "language": "python",
   "name": "conda-base-py"
  },
  "language_info": {
   "codemirror_mode": {
    "name": "ipython",
    "version": 3
   },
   "file_extension": ".py",
   "mimetype": "text/x-python",
   "name": "python",
   "nbconvert_exporter": "python",
   "pygments_lexer": "ipython3",
   "version": "3.12.3"
  }
 },
 "nbformat": 4,
 "nbformat_minor": 5
}
