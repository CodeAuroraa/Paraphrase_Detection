{
 "cells": [
  {
   "cell_type": "code",
   "execution_count": 2,
   "id": "0f207dd8-583f-483a-b4c7-624842b69544",
   "metadata": {},
   "outputs": [
    {
     "name": "stderr",
     "output_type": "stream",
     "text": [
      "[nltk_data] Downloading package punkt to\n",
      "[nltk_data]     C:\\Users\\HP\\AppData\\Roaming\\nltk_data...\n",
      "[nltk_data]   Package punkt is already up-to-date!\n",
      "[nltk_data] Downloading package stopwords to\n",
      "[nltk_data]     C:\\Users\\HP\\AppData\\Roaming\\nltk_data...\n",
      "[nltk_data]   Package stopwords is already up-to-date!\n"
     ]
    }
   ],
   "source": [
    "import nltk\n",
    "import string\n",
    "import spacy\n",
    "import torch\n",
    "import tensorflow_hub as hub\n",
    "from sklearn.metrics.pairwise import cosine_similarity\n",
    "from nltk.corpus import stopwords\n",
    "from nltk.tokenize import word_tokenize\n",
    "from sentence_transformers import SentenceTransformer\n",
    "\n",
    "# Load NLP Models\n",
    "nltk.download('punkt')\n",
    "nltk.download('stopwords')\n",
    "nlp = spacy.load('en_core_web_sm')\n",
    "use_model = hub.load(\"https://tfhub.dev/google/universal-sentence-encoder/4\")\n",
    "sbert_model = SentenceTransformer('paraphrase-MiniLM-L6-v2')\n",
    "\n",
    "# Preprocessing function\n",
    "def preprocess_text(text):\n",
    "    \"\"\"Lowercase, remove punctuation, and filter stopwords.\"\"\"\n",
    "    stop_words = set(stopwords.words(\"english\"))\n",
    "    text = text.lower().translate(str.maketrans(\"\", \"\", string.punctuation))\n",
    "    words = word_tokenize(text)\n",
    "    words = [word for word in words if word not in stop_words]\n",
    "    return \" \".join(words)\n",
    "\n",
    "# Function to generate embeddings\n",
    "def get_use_embedding(text):\n",
    "    \"\"\"Generate embeddings using Universal Sentence Encoder (USE).\"\"\"\n",
    "    return use_model([text])[0]\n",
    "\n",
    "def get_sbert_embedding(text):\n",
    "    \"\"\"Generate embeddings using SBERT.\"\"\"\n",
    "    return sbert_model.encode(text)\n",
    "\n",
    "# Compute similarity between two texts\n",
    "def compute_similarity(text1, text2):\n",
    "    emb1 = get_use_embedding(text1)\n",
    "    emb2 = get_use_embedding(text2)\n",
    "    cosine_sim = cosine_similarity([emb1], [emb2])[0][0]\n",
    "    return round(float(cosine_sim), 4)\n"
   ]
  },
  {
   "cell_type": "code",
   "execution_count": null,
   "id": "7634c328-00ad-4d78-9541-4d7a1c8328de",
   "metadata": {},
   "outputs": [],
   "source": []
  }
 ],
 "metadata": {
  "kernelspec": {
   "display_name": "Python [conda env:base] *",
   "language": "python",
   "name": "conda-base-py"
  },
  "language_info": {
   "codemirror_mode": {
    "name": "ipython",
    "version": 3
   },
   "file_extension": ".py",
   "mimetype": "text/x-python",
   "name": "python",
   "nbconvert_exporter": "python",
   "pygments_lexer": "ipython3",
   "version": "3.12.3"
  }
 },
 "nbformat": 4,
 "nbformat_minor": 5
}
