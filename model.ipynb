{
 "cells": [
  {
   "cell_type": "code",
   "execution_count": null,
   "id": "45b441f0-52d0-451e-a431-cde60c628202",
   "metadata": {},
   "outputs": [],
   "source": [
    "from similarity import get_sbert_embedding, compute_similarity\n",
    "from sklearn.metrics.pairwise import cosine_similarity\n",
    "\n",
    "def detect_paraphrase(text1, text2):\n",
    "    \"\"\"Detect if two sentences are paraphrases using SBERT.\"\"\"\n",
    "    embeddings = [get_sbert_embedding(text1), get_sbert_embedding(text2)]\n",
    "    similarity_score = cosine_similarity([embeddings[0]], [embeddings[1]])[0][0]\n",
    "    return \"Paraphrase\" if similarity_score > 0.8 else \"Not a Paraphrase\"\n"
   ]
  }
 ],
 "metadata": {
  "kernelspec": {
   "display_name": "Python [conda env:base] *",
   "language": "python",
   "name": "conda-base-py"
  },
  "language_info": {
   "codemirror_mode": {
    "name": "ipython",
    "version": 3
   },
   "file_extension": ".py",
   "mimetype": "text/x-python",
   "name": "python",
   "nbconvert_exporter": "python",
   "pygments_lexer": "ipython3",
   "version": "3.12.3"
  }
 },
 "nbformat": 4,
 "nbformat_minor": 5
}
